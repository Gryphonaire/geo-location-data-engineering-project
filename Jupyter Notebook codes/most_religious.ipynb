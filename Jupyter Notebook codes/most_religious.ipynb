{
 "cells": [
  {
   "cell_type": "code",
   "execution_count": null,
   "metadata": {},
   "outputs": [],
   "source": [
    "import requests\n",
    "import pandas as pd\n",
    "from bs4 import BeautifulSoup\n",
    "from geopy.geocoders import Nominatim\n",
    "from functools import partial\n",
    "import geopy\n",
    "import re\n",
    "import time\n",
    "from geopy.extra.rate_limiter import RateLimiter\n",
    "from opencage.geocoder import OpenCageGeocode\n",
    "from pprint import pprint"
   ]
  },
  {
   "cell_type": "code",
   "execution_count": null,
   "metadata": {},
   "outputs": [],
   "source": [
    "URL = \"https://www.travelandleisure.com/attractions/worlds-most-visited-sacred-sites\""
   ]
  },
  {
   "cell_type": "code",
   "execution_count": null,
   "metadata": {},
   "outputs": [],
   "source": [
    "# Header for request\n",
    "HEADER = ({'User-Agent': 'Mozilla/5.0 (Windows NT 10.0; Win64; x64) AppleWebKit/537.36 (KHTML, like Gecko) Chrome/116.0.0.0 Safari/537.36', 'Accept-Language': 'en-US, en; q=0.5'})\n",
    "geolocator = Nominatim(user_agent=\"geocode_religious_locations_from_webpage\")\n",
    "geocode = RateLimiter(geolocator.geocode, min_delay_seconds=1.5, max_retries=3)\n",
    "geo_key = 'e0e73007ebe240c6836e278bbc510da2'\n",
    "geocoder = OpenCageGeocode(geo_key)"
   ]
  },
  {
   "cell_type": "code",
   "execution_count": null,
   "metadata": {},
   "outputs": [],
   "source": [
    "webpage = requests.get(URL, headers=HEADER)\n",
    "webpage"
   ]
  },
  {
   "cell_type": "code",
   "execution_count": null,
   "metadata": {},
   "outputs": [],
   "source": [
    "soup = BeautifulSoup(webpage.content, \"html.parser\")\n",
    "#soup"
   ]
  },
  {
   "cell_type": "code",
   "execution_count": null,
   "metadata": {},
   "outputs": [],
   "source": [
    "titles = soup.find_all(\"span\", attrs = {'class': 'mntl-sc-block-heading__text'})\n",
    "data = soup.find_all(\"p\", attrs = {'class': 'comp mntl-sc-block mntl-sc-block-html'})\n",
    "#print(data[53].text.strip(\"\\n\").split(\":\")[1].strip().split(\" \")[0].split(\"–\")[0])\n",
    "#len(data)\n",
    "temp_title = titles[1].text.strip()\n",
    "title = re.sub(r\"No\\. [0-9]\\s\", \"\", temp_title)\n",
    "title"
   ]
  },
  {
   "cell_type": "code",
   "execution_count": null,
   "metadata": {},
   "outputs": [],
   "source": [
    "for i in range(20):\n",
    "    temp_title = titles[i].text.strip()\n",
    "    title = re.sub(r\"No\\. \\b([1-9]|[12][0-9])\\b\\s\", \"\", temp_title)\n",
    "    #print(str(i) + \"     \" + title)\n",
    "    titles[i] = title\n"
   ]
  },
  {
   "cell_type": "code",
   "execution_count": null,
   "metadata": {},
   "outputs": [],
   "source": [
    "visitors_list = []\n",
    "sample_word = \"Annual Visitors:\"\n",
    "for i in range(len(data)):\n",
    "    if sample_word in data[i].text:\n",
    "        #print(i)\n",
    "        visitor = data[i].text.strip(\"\\n\").split(\":\")[1].strip().split(\" \")[0].split(\"–\")[0]\n",
    "        #print(str(i) + \"  \" + visitor)\n",
    "        visitors_list.append(visitor)\n",
    "        if len(visitors_list) == 20:\n",
    "            break\n",
    "visitors_list"
   ]
  },
  {
   "cell_type": "code",
   "execution_count": null,
   "metadata": {},
   "outputs": [],
   "source": [
    "final_title_list = titles[:21] + visitors_list\n",
    "#for i in range(len(final_title_list)):\n",
    "    #print(str(i)+ \"  \" + final_title_list[i])\n",
    "print(len(final_title_list))\n",
    "print(final_title_list[0])\n",
    "print(final_title_list[1])"
   ]
  },
  {
   "cell_type": "code",
   "execution_count": null,
   "metadata": {},
   "outputs": [],
   "source": [
    "city_address = []\n",
    "for i in range(int(len(final_title_list)/2)):\n",
    "\n",
    "    # GETTING RAW DATA\n",
    "    try:\n",
    "        location_description = geocoder.geocode(final_title_list[i])\n",
    "    except Exception:\n",
    "        print(str(i) + \" \" + \"No data found for location: \" + final_title_list[i])\n",
    "        continue\n",
    "\n",
    "    # GETTING ADDRESS VALUES\n",
    "    loc_title = final_title_list[i].split(\",\")[0]\n",
    "    latitude = str(location_description[0]['geometry']['lat'])\n",
    "    longitude = str(location_description[0]['geometry']['lng'])\n",
    "    try:\n",
    "        city = location_description[0]['components']['city']\n",
    "    except Exception:\n",
    "        try:\n",
    "            city = location_description[0]['components']['town']\n",
    "        except Exception:\n",
    "            try:\n",
    "                city = location_description[0]['components']['state']\n",
    "            except Exception:\n",
    "                city = \"NULL\"\n",
    "    country = location_description[0]['components']['country']\n",
    "    country_code = location_description[0]['components']['country_code']\n",
    "    continent = location_description[0]['components']['continent']\n",
    "    visitors = final_title_list[i+21]\n",
    "    \n",
    "    #GETTING POSTCODE\n",
    "    lat_long = str(latitude) + \",\"+ str(longitude) \n",
    "    location2 = geolocator.reverse(lat_long, language=\"en\")\n",
    "    try:\n",
    "        postcode = location2.raw['address']['postcode'].replace(\" \",\"\")\n",
    "    except:\n",
    "        postcode = \"NULL\"\n",
    "        \n",
    "    # ADDING VARIABLES TO DICTIONARY\n",
    "    address_dict = {'Location': loc_title, 'City/State': city, 'Country': country, 'Country Code':country_code.upper(), 'Continent': continent, 'Latitude': str(round(float(latitude),2)), 'Longitude': str(round(float(longitude),2)), 'Postcode': postcode, 'Visitors (in Millions)': visitors}\n",
    "    city_address.append(address_dict)\n",
    "    \n",
    "print(city_address)"
   ]
  },
  {
   "cell_type": "code",
   "execution_count": null,
   "metadata": {},
   "outputs": [],
   "source": [
    "ca_most_religious_df = pd.DataFrame.from_dict(city_address)\n",
    "ca_most_religious_df"
   ]
  }
 ],
 "metadata": {
  "kernelspec": {
   "display_name": "Python 3",
   "language": "python",
   "name": "python3"
  },
  "language_info": {
   "codemirror_mode": {
    "name": "ipython",
    "version": 3
   },
   "file_extension": ".py",
   "mimetype": "text/x-python",
   "name": "python",
   "nbconvert_exporter": "python",
   "pygments_lexer": "ipython3",
   "version": "3.11.1"
  },
  "orig_nbformat": 4
 },
 "nbformat": 4,
 "nbformat_minor": 2
}
