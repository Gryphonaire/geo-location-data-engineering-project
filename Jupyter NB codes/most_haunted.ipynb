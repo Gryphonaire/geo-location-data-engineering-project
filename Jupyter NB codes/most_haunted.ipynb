{
 "cells": [
  {
   "cell_type": "code",
   "execution_count": null,
   "metadata": {},
   "outputs": [],
   "source": [
    "import requests\n",
    "import pandas as pd\n",
    "from bs4 import BeautifulSoup\n",
    "from geopy.geocoders import Nominatim\n",
    "from functools import partial\n",
    "import geopy\n",
    "import time\n",
    "from geopy.extra.rate_limiter import RateLimiter\n",
    "from opencage.geocoder import OpenCageGeocode\n",
    "from pprint import pprint"
   ]
  },
  {
   "cell_type": "code",
   "execution_count": null,
   "metadata": {},
   "outputs": [],
   "source": [
    "URL = \"https://www.travelandleisure.com/holiday-travel/halloween/most-haunted-places-in-the-world\""
   ]
  },
  {
   "cell_type": "code",
   "execution_count": null,
   "metadata": {},
   "outputs": [],
   "source": [
    "# Header for request\n",
    "HEADER = ({'User-Agent': 'Mozilla/5.0 (Windows NT 10.0; Win64; x64) AppleWebKit/537.36 (KHTML, like Gecko) Chrome/116.0.0.0 Safari/537.36', 'Accept-Language': 'en-US, en; q=0.5'})\n",
    "geo_key = 'e0e73007ebe240c6836e278bbc510da2'\n",
    "geocoder = OpenCageGeocode(geo_key)\n",
    "geolocator = Nominatim(user_agent=\"geocode_locations_from_webpage\")\n",
    "geocode = RateLimiter(geolocator.geocode, min_delay_seconds=1.5, max_retries=3)"
   ]
  },
  {
   "cell_type": "code",
   "execution_count": null,
   "metadata": {},
   "outputs": [],
   "source": [
    "webpage = requests.get(URL, headers=HEADER)\n",
    "webpage"
   ]
  },
  {
   "cell_type": "code",
   "execution_count": null,
   "metadata": {},
   "outputs": [],
   "source": [
    "soup = BeautifulSoup(webpage.content, \"html.parser\")\n",
    "#soup"
   ]
  },
  {
   "cell_type": "code",
   "execution_count": null,
   "metadata": {},
   "outputs": [],
   "source": [
    "places = soup.find_all(\"span\", attrs = {'class': 'mntl-sc-block-heading__text'})\n",
    "for i in range(20):\n",
    "    print(str(i) + \"  \" + places[i].text)\n",
    "#print(places[1].text)"
   ]
  },
  {
   "cell_type": "code",
   "execution_count": null,
   "metadata": {},
   "outputs": [],
   "source": [
    "title_list = []\n",
    "location_list = []\n",
    "counter = 0\n",
    "\n",
    "print(places[10].text)\n",
    "place_list = places[10].text.strip().split(\" \")\n",
    "print(place_list)\n",
    "for i in range(len(place_list)):\n",
    "    if place_list[i] == \"in\":\n",
    "        counter = 1\n",
    "        continue\n",
    "    elif place_list[i] != \"in\" and counter < 1:\n",
    "        title_list.append(place_list[i])\n",
    "    elif place_list[i] != \"in\" and counter == 1:\n",
    "        location_list.append(place_list[i])\n",
    "seperator = \" \"\n",
    "title = seperator.join(title_list)\n",
    "location = seperator.join(location_list)\n",
    "print(location)\n",
    "print(title)\n",
    "\n",
    "\n",
    "location_description = geocoder.geocode(location)\n",
    "#location_description"
   ]
  },
  {
   "cell_type": "code",
   "execution_count": null,
   "metadata": {},
   "outputs": [],
   "source": [
    "try:\n",
    "    location_description = geocoder.geocode(location)\n",
    "except Exception:\n",
    "    print(\"No data found for location: \" + location)\n",
    "    #continue\n",
    "try:\n",
    "    postcode = location_description[1]['components']['postcode'].replace(\" \",\"-\")\n",
    "except:\n",
    "    postcode = \"Null\"\n",
    "try:\n",
    "    city = location_description[0]['components']['city']\n",
    "except:\n",
    "    city = \"Null\"\n",
    "country = location_description[0]['components']['country']\n",
    "country_code = location_description[0]['components']['country_code']\n",
    "continent = location_description[0]['components']['continent']\n",
    "latitude = str(location_description[0]['geometry']['lat'])\n",
    "longitude = str(location_description[0]['geometry']['lng'])\n",
    "print(len(location_description))"
   ]
  },
  {
   "cell_type": "code",
   "execution_count": null,
   "metadata": {},
   "outputs": [],
   "source": [
    "city_address = []\n",
    "for i in range(20):\n",
    "    \n",
    "    # SEPERATING TITLE AND LOCATION\n",
    "    title_list = []\n",
    "    location_list = []\n",
    "    counter = 0\n",
    "    place_list = []\n",
    "    \n",
    "    place_list = places[i].text.strip().split(\" \")\n",
    "    #print(place_list)\n",
    "    for x in range(len(place_list)):\n",
    "        if place_list[x] == \"in\":\n",
    "            counter = 1\n",
    "            continue\n",
    "        elif place_list[x] != \"in\" and counter < 1:\n",
    "            title_list.append(place_list[x])\n",
    "        elif place_list[x] != \"in\" and counter == 1:\n",
    "            location_list.append(place_list[x])\n",
    "    seperator = \" \"\n",
    "    title = seperator.join(title_list)\n",
    "    location = seperator.join(location_list)\n",
    "\n",
    "    # GETTING RAW DATA\n",
    "    try:\n",
    "        location_description = geocoder.geocode(location)\n",
    "    except Exception:\n",
    "        print(str(i) + \" \" + \"No data found for location: \" + location)\n",
    "        continue\n",
    "    \n",
    "    # GETTING ADDRESS VALUES\n",
    "    try:\n",
    "        city = location_description[0]['components']['city']\n",
    "    except Exception:\n",
    "        try:\n",
    "            city = location_description[0]['components']['town']\n",
    "        except Exception:\n",
    "            try:\n",
    "                city = location_description[0]['components']['state']\n",
    "            except Exception:\n",
    "                city = \"NULL\"\n",
    "    country = location_description[0]['components']['country']\n",
    "    country_code = location_description[0]['components']['country_code']\n",
    "    continent = location_description[0]['components']['continent']\n",
    "    latitude = str(location_description[0]['geometry']['lat'])\n",
    "    longitude = str(location_description[0]['geometry']['lng'])\n",
    "    \n",
    "    #GETTING POSTCODE\n",
    "    lat_long = str(latitude) + \",\"+ str(longitude) \n",
    "    location2 = geolocator.reverse(lat_long, language=\"en\")\n",
    "    try:\n",
    "        postcode = location2.raw['address']['postcode'].replace(\" \",\"\")\n",
    "    except:\n",
    "        postcode = \"NULL\"\n",
    "    \n",
    "    # ADDING VARIABLES TO DICTIONARY\n",
    "    #print(str(i) +\"  \"+ title + \"  \" + city +\"  \" + country + \"  \" + country_code.upper() + \"  \" + continent + \"  \" + latitude + \"  \"+ longitude+ \"  \" + postcode + \"\\n\")\n",
    "    address_dict = {'Location': title, 'City/State': city, 'Country': country, 'Country Code':country_code.upper(), 'Continent': continent, 'Latitude': str(round(float(latitude),2)), 'Longitude': str(round(float(longitude),2)), 'Postcode': postcode}\n",
    "    city_address.append(address_dict)\n",
    "    \n",
    "print(city_address)"
   ]
  },
  {
   "cell_type": "code",
   "execution_count": null,
   "metadata": {},
   "outputs": [],
   "source": [
    "ca_most_haunted_df = pd.DataFrame.from_dict(city_address)\n",
    "ca_most_haunted_df"
   ]
  }
 ],
 "metadata": {
  "kernelspec": {
   "display_name": "Python 3",
   "language": "python",
   "name": "python3"
  },
  "language_info": {
   "codemirror_mode": {
    "name": "ipython",
    "version": 3
   },
   "file_extension": ".py",
   "mimetype": "text/x-python",
   "name": "python",
   "nbconvert_exporter": "python",
   "pygments_lexer": "ipython3",
   "version": "3.11.1"
  },
  "orig_nbformat": 4
 },
 "nbformat": 4,
 "nbformat_minor": 2
}
