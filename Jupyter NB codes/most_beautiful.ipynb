{
 "cells": [
  {
   "cell_type": "code",
   "execution_count": null,
   "metadata": {},
   "outputs": [],
   "source": [
    "import requests\n",
    "import pandas as pd\n",
    "from bs4 import BeautifulSoup\n",
    "from geopy.geocoders import Nominatim\n",
    "from functools import partial\n",
    "import geopy\n",
    "import time\n",
    "from geopy.extra.rate_limiter import RateLimiter\n",
    "from opencage.geocoder import OpenCageGeocode\n",
    "from pprint import pprint"
   ]
  },
  {
   "cell_type": "code",
   "execution_count": null,
   "metadata": {},
   "outputs": [],
   "source": [
    "URL = \"https://www.cntraveler.com/galleries/2015-11-27/the-50-most-beautiful-places-in-the-world\""
   ]
  },
  {
   "cell_type": "code",
   "execution_count": null,
   "metadata": {},
   "outputs": [],
   "source": [
    "# Header for request\n",
    "HEADER = ({'User-Agent': 'Mozilla/5.0 (Windows NT 10.0; Win64; x64) AppleWebKit/537.36 (KHTML, like Gecko) Chrome/116.0.0.0 Safari/537.36', 'Accept-Language': 'en-US, en; q=0.5'})\n",
    "geolocator = Nominatim(user_agent=\"geocode_locations_from_webpage\")\n",
    "geocode = RateLimiter(geolocator.geocode, min_delay_seconds=1.5, max_retries=3)\n",
    "geo_key = 'e0e73007ebe240c6836e278bbc510da2'\n",
    "geocoder = OpenCageGeocode(geo_key)"
   ]
  },
  {
   "cell_type": "code",
   "execution_count": null,
   "metadata": {},
   "outputs": [],
   "source": [
    "webpage = requests.get(URL, headers=HEADER)\n",
    "webpage"
   ]
  },
  {
   "cell_type": "code",
   "execution_count": null,
   "metadata": {},
   "outputs": [],
   "source": [
    "soup = BeautifulSoup(webpage.content, \"html.parser\")\n",
    "soup"
   ]
  },
  {
   "cell_type": "code",
   "execution_count": null,
   "metadata": {},
   "outputs": [],
   "source": [
    "places_list = soup.find_all(\"span\", attrs = {'class': 'GallerySlideCaptionHedText-iqjOmM jwPuvZ'})\n",
    "#print(len(places))\n",
    "#print(places[4].text)\n",
    "#places.pop(4)\n",
    "#print(len(places))\n",
    "#print(places[4].text)\n",
    "places_list[0:10]"
   ]
  },
  {
   "cell_type": "code",
   "execution_count": null,
   "metadata": {},
   "outputs": [],
   "source": [
    "places = []\n",
    "places_list.pop(4)\n",
    "l = len(places_list)\n",
    "l\n",
    "for i in range(11):\n",
    "    places.append(places_list[i].text)\n",
    "\n",
    "places"
   ]
  },
  {
   "cell_type": "code",
   "execution_count": null,
   "metadata": {},
   "outputs": [],
   "source": [
    "town,city,state = \"\",\"\",\"\"\n",
    "location_description = geocoder.geocode(places[4].text)\n",
    "try:\n",
    "    town = location_description[0]['components']['town']\n",
    "except:\n",
    "    print (\"No data\")\n",
    "try:\n",
    "    city = location_description[0]['components']['city']\n",
    "except:\n",
    "    print (\"No data\")\n",
    "try:\n",
    "    state = location_description[0]['components']['state']\n",
    "except:\n",
    "    print (\"No data\")\n",
    "\n",
    "print( town + \" \" + city + \"  \" + state + \"  \")\n",
    "#location_description"
   ]
  },
  {
   "cell_type": "code",
   "execution_count": null,
   "metadata": {},
   "outputs": [],
   "source": [
    "city_address = []\n",
    "for i in range(20):\n",
    "    \n",
    "    # GETTING RAW DATA\n",
    "    try:\n",
    "        location_description = geocoder.geocode(places[i].text)\n",
    "    except Exception:\n",
    "        print(str(i) + \" \" + \"No data found for location: \" + places[i].text)\n",
    "        continue\n",
    "    \n",
    "    # GETTING ADDRESS VALUES\n",
    "    latitude = str(location_description[0]['geometry']['lat'])\n",
    "    longitude = str(location_description[0]['geometry']['lng'])\n",
    "    loc_title = places[i].text.split(\",\")[0]\n",
    "    \n",
    "    try:\n",
    "        city = location_description[0]['components']['city']\n",
    "    except Exception:\n",
    "        try:\n",
    "            city = location_description[0]['components']['town']\n",
    "        except Exception:\n",
    "            try:\n",
    "                city = location_description[0]['components']['state']\n",
    "            except Exception:\n",
    "                city = \"NULL\"\n",
    "    country = location_description[0]['components']['country']\n",
    "    country_code = location_description[0]['components']['country_code']\n",
    "    continent = location_description[0]['components']['continent']\n",
    "    \n",
    "    #GETTING POSTCODE\n",
    "    lat_long = str(latitude) + \",\"+ str(longitude) \n",
    "    location2 = geolocator.reverse(lat_long, language=\"en\")\n",
    "    try:\n",
    "        postcode = location2.raw['address']['postcode'].replace(\" \",\"\")\n",
    "    except:\n",
    "        postcode = \"NULL\"\n",
    "        \n",
    "        \n",
    "    # ADDING VARIABLES TO DICTIONARY\n",
    "    #print(str(i) +\"  \"+ loc_title + \"  \" + city +\"  \" + country + \"  \" + country_code.upper() + \"  \" + continent + \"  \" + latitude + \"  \"+ longitude+ \"  \" + postcode)\n",
    "    address_dict = {'Location': loc_title, 'City/State': city, 'Country': country, 'Country Code':country_code.upper(), 'Continent': continent, 'Latitude': str(round(float(latitude),2)), 'Longitude': str(round(float(longitude),2)), 'Postcode': postcode}\n",
    "    city_address.append(address_dict)\n",
    "    \n",
    "print(city_address)"
   ]
  },
  {
   "cell_type": "code",
   "execution_count": null,
   "metadata": {},
   "outputs": [],
   "source": [
    "ca_most_beautiful_df = pd.DataFrame.from_dict(city_address)\n",
    "ca_most_beautiful_df"
   ]
  },
  {
   "cell_type": "code",
   "execution_count": null,
   "metadata": {},
   "outputs": [],
   "source": []
  }
 ],
 "metadata": {
  "kernelspec": {
   "display_name": "Python 3",
   "language": "python",
   "name": "python3"
  },
  "language_info": {
   "codemirror_mode": {
    "name": "ipython",
    "version": 3
   },
   "file_extension": ".py",
   "mimetype": "text/x-python",
   "name": "python",
   "nbconvert_exporter": "python",
   "pygments_lexer": "ipython3",
   "version": "3.11.1"
  },
  "orig_nbformat": 4
 },
 "nbformat": 4,
 "nbformat_minor": 2
}
