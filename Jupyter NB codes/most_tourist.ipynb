{
 "cells": [
  {
   "cell_type": "code",
   "execution_count": null,
   "metadata": {},
   "outputs": [],
   "source": [
    "import requests\n",
    "import pandas as pd\n",
    "from bs4 import BeautifulSoup\n",
    "from geopy.geocoders import Nominatim\n",
    "from functools import partial\n",
    "import geopy\n",
    "import time\n",
    "from geopy.extra.rate_limiter import RateLimiter\n",
    "from opencage.geocoder import OpenCageGeocode\n",
    "from pprint import pprint"
   ]
  },
  {
   "cell_type": "code",
   "execution_count": null,
   "metadata": {},
   "outputs": [],
   "source": [
    "URL = \"https://travelness.com/most-visited-cities-in-the-world\""
   ]
  },
  {
   "cell_type": "code",
   "execution_count": null,
   "metadata": {},
   "outputs": [],
   "source": [
    "# Header for request\n",
    "HEADER = ({'User-Agent': 'Mozilla/5.0 (Windows NT 10.0; Win64; x64) AppleWebKit/537.36 (KHTML, like Gecko) Chrome/116.0.0.0 Safari/537.36', 'Accept-Language': 'en-US, en; q=0.5'})\n",
    "geolocator = Nominatim(user_agent=\"geocode_locations_from_webpage\")\n",
    "geocode = RateLimiter(geolocator.geocode, min_delay_seconds=1.5, max_retries=3)\n",
    "geo_key = 'e0e73007ebe240c6836e278bbc510da2'\n",
    "geocoder = OpenCageGeocode(geo_key)"
   ]
  },
  {
   "cell_type": "code",
   "execution_count": null,
   "metadata": {},
   "outputs": [],
   "source": [
    "webpage = requests.get(URL, headers=HEADER)\n",
    "webpage"
   ]
  },
  {
   "cell_type": "code",
   "execution_count": null,
   "metadata": {},
   "outputs": [],
   "source": [
    "soup = BeautifulSoup(webpage.content, \"html.parser\")"
   ]
  },
  {
   "cell_type": "code",
   "execution_count": null,
   "metadata": {},
   "outputs": [],
   "source": [
    "data = soup.find_all(\"td\", attrs = {'class': 'has-text-align-left'})\n",
    "len(data)"
   ]
  },
  {
   "cell_type": "code",
   "execution_count": null,
   "metadata": {},
   "outputs": [],
   "source": [
    "print(data[0].text, data[1].text, data[2].text)\n",
    "print(data[-3].text, data[-2].text, data[-1].text)\n",
    "# Use i % 3 == {0,1,2} in if-else for different data"
   ]
  },
  {
   "cell_type": "code",
   "execution_count": null,
   "metadata": {},
   "outputs": [],
   "source": [
    "location_description2 = geocoder.geocode(data[4].text)\n",
    "len(location_description2)"
   ]
  },
  {
   "cell_type": "code",
   "execution_count": null,
   "metadata": {},
   "outputs": [],
   "source": [
    "location = geolocator.geocode(data[7].text, language=\"en\")\n",
    "print(location)\n",
    "print(data[7].text)\n",
    "latitude = str(location.raw['lat'])\n",
    "longitude = str(location.raw['lon'])\n",
    "lat_long = latitude + \",\"+ longitude \n",
    "location2 = geolocator.reverse(lat_long, language=\"en\")\n",
    "city = data[7].text\n",
    "try:\n",
    "    postcode = location2.raw['address']['postcode'].replace(\" \",\"\")\n",
    "except:\n",
    "    postcode = \"Null\"\n",
    "country = location2.raw['address']['country'].upper()\n",
    "country_code = location2.raw['address']['country_code']\n",
    "print(city + \"  \" + country + \"  \"+ str(round(float(latitude),2)) + \"  \"+ str(round(float(longitude),2)) + \"  \" + country_code.upper() + \"  \" + postcode)\n",
    "#location2.raw"
   ]
  },
  {
   "cell_type": "code",
   "execution_count": null,
   "metadata": {},
   "outputs": [],
   "source": [
    "city_address = []\n",
    "for i in range(60):\n",
    "    if i % 3 == 1:\n",
    "\n",
    "        # GETTING RAW DATA\n",
    "        try:\n",
    "            location_description = geocoder.geocode(data[i].text)\n",
    "        except Exception:\n",
    "            print(str(i) + \" \" + \"No data found for location: \" + str(data[i].text))\n",
    "            continue\n",
    "        \n",
    "        # GETTING ADDRESS COMPONENTS\n",
    "        city = data[i].text\n",
    "        country = location_description[0]['components']['country']\n",
    "        country_code = location_description[0]['components']['country_code']\n",
    "        continent = location_description[0]['components']['continent']\n",
    "        latitude = str(location_description[0]['geometry']['lat'])\n",
    "        longitude = str(location_description[0]['geometry']['lng'])\n",
    "        visitors = data[i+1].text.split(\" \")[0]\n",
    "\n",
    "        #GETTING POSTCODE\n",
    "        lat_long = str(latitude) + \",\"+ str(longitude) \n",
    "        location2 = geolocator.reverse(lat_long, language=\"en\")\n",
    "        try:\n",
    "            postcode = location2.raw['address']['postcode'].replace(\" \",\"\")\n",
    "        except:\n",
    "            postcode = \"NULL\"\n",
    "        \n",
    "        # ADDING VARIABLES TO DICTIONARY\n",
    "        #print(str(i) +\"  \"+ city +\"  \" + country + \"  \" + country_code.upper() + \"  \" + continent + \"  \" + latitude + \"  \"+ longitude+ \"  \" + postcode + \"  \" + visitors)\n",
    "        address_dict = {'City': city, 'Country': country, 'Country Code':country_code.upper(), 'Continent': continent, 'Latitude': str(round(float(latitude),2)), 'Longitude': str(round(float(longitude),2)), 'Postcode': postcode, 'Visitors (in Millions)': visitors}\n",
    "        city_address.append(address_dict)\n",
    "    \n",
    "print(city_address)"
   ]
  },
  {
   "cell_type": "code",
   "execution_count": null,
   "metadata": {},
   "outputs": [],
   "source": [
    "#city_address = []\n",
    "#for i in range(60):\n",
    "#    if i % 3 == 1:\n",
    "#\n",
    "#        # GETTING LATITUDE & LONGITUDE\n",
    "#        location = geolocator.geocode(data[i].text, language=\"en\")\n",
    "#        latitude = str(location.raw['lat'])\n",
    "#        longitude = str(location.raw['lon'])\n",
    "#        lat_long = latitude + \",\"+ longitude \n",
    "#        location2 = geolocator.reverse(lat_long, language=\"en\")\n",
    "#        \n",
    "#        # ASSIGNING VARIABLES\n",
    "#        city = data[i].text\n",
    "#        country = location2.raw['address']['country']\n",
    "#        country_code = location2.raw['address']['country_code']\n",
    "#        try:\n",
    "#            postcode = location2.raw['address']['postcode'].replace(\" \",\"-\")\n",
    "#        except:\n",
    "#            postcode = \"NULL\"\n",
    "#        visitors = data[i+1].text.split(\" \")[0]\n",
    "#        \n",
    "#        # ADDING VARIABLES TO DICTIONARY\n",
    "#        # print(str(i) +\"  \"+ city +\"  \" + country + \"  \" + country_code.upper() + \"  \" + latitude + \"  \"+ longitude+ \"  \" + postcode + \"  \" + visitors)\n",
    "#        address_dict = {'City': city, 'Country': country, 'Country Code':country_code.upper(), 'Latitude': str(round(float(latitude),2)), 'Longitude': str(round(float(longitude),2)), 'Postcode': postcode, 'Visitors (in Millions)': visitors}\n",
    "#        city_address.append(address_dict)\n",
    "#    \n",
    "#print(city_address)"
   ]
  },
  {
   "cell_type": "code",
   "execution_count": null,
   "metadata": {},
   "outputs": [],
   "source": [
    "#ca_most_tourist_df_2 = pd.DataFrame.from_dict(city_address_2)\n",
    "#ca_most_tourist_df_2"
   ]
  },
  {
   "cell_type": "code",
   "execution_count": null,
   "metadata": {},
   "outputs": [],
   "source": [
    "ca_most_tourist_df = pd.DataFrame.from_dict(city_address)\n",
    "ca_most_tourist_df"
   ]
  },
  {
   "cell_type": "code",
   "execution_count": null,
   "metadata": {},
   "outputs": [],
   "source": []
  }
 ],
 "metadata": {
  "kernelspec": {
   "display_name": "Python 3",
   "language": "python",
   "name": "python3"
  },
  "language_info": {
   "codemirror_mode": {
    "name": "ipython",
    "version": 3
   },
   "file_extension": ".py",
   "mimetype": "text/x-python",
   "name": "python",
   "nbconvert_exporter": "python",
   "pygments_lexer": "ipython3",
   "version": "3.11.1"
  },
  "orig_nbformat": 4
 },
 "nbformat": 4,
 "nbformat_minor": 2
}
